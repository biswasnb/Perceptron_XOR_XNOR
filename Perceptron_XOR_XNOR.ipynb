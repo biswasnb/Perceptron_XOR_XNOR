{
 "cells": [
  {
   "cell_type": "code",
   "execution_count": 1,
   "id": "0143021f",
   "metadata": {},
   "outputs": [
    {
     "name": "stdout",
     "output_type": "stream",
     "text": [
      "XOR Gate:\n",
      "Input: [0, 0], Output: 0\n",
      "Input: [0, 1], Output: 1\n",
      "Input: [1, 0], Output: 1\n",
      "Input: [1, 1], Output: 0\n",
      "\n",
      "XNOR Gate:\n",
      "Input: [0, 0], Output: 1\n",
      "Input: [0, 1], Output: 0\n",
      "Input: [1, 0], Output: 0\n",
      "Input: [1, 1], Output: 1\n"
     ]
    }
   ],
   "source": [
    "import numpy as np\n",
    "\n",
    "# Activation function: Step function\n",
    "def step(x):\n",
    "    return 1 if x >= 0 else 0\n",
    "\n",
    "# XOR using a 2-layer perceptron\n",
    "def xor_gate(inputs):\n",
    "    # Hidden layer (NAND & OR)\n",
    "    nand = step(-inputs[0] - inputs[1] + 1.5)  # NAND gate\n",
    "    or_gate = step(inputs[0] + inputs[1] - 0.5)  # OR gate\n",
    "\n",
    "    # Output layer (AND of NAND and OR)\n",
    "    output = step(nand + or_gate - 1.5)\n",
    "    return output\n",
    "\n",
    "# XNOR is simply the inverse of XOR\n",
    "def xnor_gate(inputs):\n",
    "    return 1 - xor_gate(inputs)\n",
    "\n",
    "# Test cases\n",
    "inputs_2 = [[0, 0], [0, 1], [1, 0], [1, 1]]\n",
    "\n",
    "print(\"XOR Gate:\")\n",
    "for i in inputs_2:\n",
    "    print(f\"Input: {i}, Output: {xor_gate(i)}\")\n",
    "\n",
    "print(\"\\nXNOR Gate:\")\n",
    "for i in inputs_2:\n",
    "    print(f\"Input: {i}, Output: {xnor_gate(i)}\")\n"
   ]
  },
  {
   "cell_type": "code",
   "execution_count": null,
   "id": "79d89a99",
   "metadata": {},
   "outputs": [],
   "source": []
  }
 ],
 "metadata": {
  "kernelspec": {
   "display_name": "Python 3 (ipykernel)",
   "language": "python",
   "name": "python3"
  },
  "language_info": {
   "codemirror_mode": {
    "name": "ipython",
    "version": 3
   },
   "file_extension": ".py",
   "mimetype": "text/x-python",
   "name": "python",
   "nbconvert_exporter": "python",
   "pygments_lexer": "ipython3",
   "version": "3.9.7"
  }
 },
 "nbformat": 4,
 "nbformat_minor": 5
}
